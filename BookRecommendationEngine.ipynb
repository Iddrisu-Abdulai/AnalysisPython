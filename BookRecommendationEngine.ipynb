{
  "cells": [
    {
      "cell_type": "markdown",
      "metadata": {
        "id": "view-in-github",
        "colab_type": "text"
      },
      "source": [
        "<a href=\"https://colab.research.google.com/github/Iddrisu-Abdulai/AnalysisR/blob/main/BookRecommendationEngine.ipynb\" target=\"_parent\"><img src=\"https://colab.research.google.com/assets/colab-badge.svg\" alt=\"Open In Colab\"/></a>"
      ]
    },
    {
      "cell_type": "code",
      "execution_count": 35,
      "metadata": {
        "colab": {
          "base_uri": "https://localhost:8080/",
          "height": 388
        },
        "id": "YmAACld2RHen",
        "outputId": "557a49ce-4e49-4945-b2f5-b22d78faca2a"
      },
      "outputs": [
        {
          "output_type": "stream",
          "name": "stdout",
          "text": [
            "Requirement already satisfied: kaggle in /usr/local/lib/python3.10/dist-packages (1.6.17)\n",
            "Requirement already satisfied: six>=1.10 in /usr/local/lib/python3.10/dist-packages (from kaggle) (1.17.0)\n",
            "Requirement already satisfied: certifi>=2023.7.22 in /usr/local/lib/python3.10/dist-packages (from kaggle) (2024.12.14)\n",
            "Requirement already satisfied: python-dateutil in /usr/local/lib/python3.10/dist-packages (from kaggle) (2.8.2)\n",
            "Requirement already satisfied: requests in /usr/local/lib/python3.10/dist-packages (from kaggle) (2.32.3)\n",
            "Requirement already satisfied: tqdm in /usr/local/lib/python3.10/dist-packages (from kaggle) (4.67.1)\n",
            "Requirement already satisfied: python-slugify in /usr/local/lib/python3.10/dist-packages (from kaggle) (8.0.4)\n",
            "Requirement already satisfied: urllib3 in /usr/local/lib/python3.10/dist-packages (from kaggle) (2.2.3)\n",
            "Requirement already satisfied: bleach in /usr/local/lib/python3.10/dist-packages (from kaggle) (6.2.0)\n",
            "Requirement already satisfied: webencodings in /usr/local/lib/python3.10/dist-packages (from bleach->kaggle) (0.5.1)\n",
            "Requirement already satisfied: text-unidecode>=1.3 in /usr/local/lib/python3.10/dist-packages (from python-slugify->kaggle) (1.3)\n",
            "Requirement already satisfied: charset-normalizer<4,>=2 in /usr/local/lib/python3.10/dist-packages (from requests->kaggle) (3.4.0)\n",
            "Requirement already satisfied: idna<4,>=2.5 in /usr/local/lib/python3.10/dist-packages (from requests->kaggle) (3.10)\n",
            "Requirement already satisfied: fuzzywuzzy in /usr/local/lib/python3.10/dist-packages (0.18.0)\n",
            "Drive already mounted at /content/drive; to attempt to forcibly remount, call drive.mount(\"/content/drive\", force_remount=True).\n"
          ]
        },
        {
          "output_type": "display_data",
          "data": {
            "text/plain": [
              "<IPython.core.display.HTML object>"
            ],
            "text/html": [
              "\n",
              "     <input type=\"file\" id=\"files-63c27e19-c6c4-41fe-a767-73a2d526593e\" name=\"files[]\" multiple disabled\n",
              "        style=\"border:none\" />\n",
              "     <output id=\"result-63c27e19-c6c4-41fe-a767-73a2d526593e\">\n",
              "      Upload widget is only available when the cell has been executed in the\n",
              "      current browser session. Please rerun this cell to enable.\n",
              "      </output>\n",
              "      <script>// Copyright 2017 Google LLC\n",
              "//\n",
              "// Licensed under the Apache License, Version 2.0 (the \"License\");\n",
              "// you may not use this file except in compliance with the License.\n",
              "// You may obtain a copy of the License at\n",
              "//\n",
              "//      http://www.apache.org/licenses/LICENSE-2.0\n",
              "//\n",
              "// Unless required by applicable law or agreed to in writing, software\n",
              "// distributed under the License is distributed on an \"AS IS\" BASIS,\n",
              "// WITHOUT WARRANTIES OR CONDITIONS OF ANY KIND, either express or implied.\n",
              "// See the License for the specific language governing permissions and\n",
              "// limitations under the License.\n",
              "\n",
              "/**\n",
              " * @fileoverview Helpers for google.colab Python module.\n",
              " */\n",
              "(function(scope) {\n",
              "function span(text, styleAttributes = {}) {\n",
              "  const element = document.createElement('span');\n",
              "  element.textContent = text;\n",
              "  for (const key of Object.keys(styleAttributes)) {\n",
              "    element.style[key] = styleAttributes[key];\n",
              "  }\n",
              "  return element;\n",
              "}\n",
              "\n",
              "// Max number of bytes which will be uploaded at a time.\n",
              "const MAX_PAYLOAD_SIZE = 100 * 1024;\n",
              "\n",
              "function _uploadFiles(inputId, outputId) {\n",
              "  const steps = uploadFilesStep(inputId, outputId);\n",
              "  const outputElement = document.getElementById(outputId);\n",
              "  // Cache steps on the outputElement to make it available for the next call\n",
              "  // to uploadFilesContinue from Python.\n",
              "  outputElement.steps = steps;\n",
              "\n",
              "  return _uploadFilesContinue(outputId);\n",
              "}\n",
              "\n",
              "// This is roughly an async generator (not supported in the browser yet),\n",
              "// where there are multiple asynchronous steps and the Python side is going\n",
              "// to poll for completion of each step.\n",
              "// This uses a Promise to block the python side on completion of each step,\n",
              "// then passes the result of the previous step as the input to the next step.\n",
              "function _uploadFilesContinue(outputId) {\n",
              "  const outputElement = document.getElementById(outputId);\n",
              "  const steps = outputElement.steps;\n",
              "\n",
              "  const next = steps.next(outputElement.lastPromiseValue);\n",
              "  return Promise.resolve(next.value.promise).then((value) => {\n",
              "    // Cache the last promise value to make it available to the next\n",
              "    // step of the generator.\n",
              "    outputElement.lastPromiseValue = value;\n",
              "    return next.value.response;\n",
              "  });\n",
              "}\n",
              "\n",
              "/**\n",
              " * Generator function which is called between each async step of the upload\n",
              " * process.\n",
              " * @param {string} inputId Element ID of the input file picker element.\n",
              " * @param {string} outputId Element ID of the output display.\n",
              " * @return {!Iterable<!Object>} Iterable of next steps.\n",
              " */\n",
              "function* uploadFilesStep(inputId, outputId) {\n",
              "  const inputElement = document.getElementById(inputId);\n",
              "  inputElement.disabled = false;\n",
              "\n",
              "  const outputElement = document.getElementById(outputId);\n",
              "  outputElement.innerHTML = '';\n",
              "\n",
              "  const pickedPromise = new Promise((resolve) => {\n",
              "    inputElement.addEventListener('change', (e) => {\n",
              "      resolve(e.target.files);\n",
              "    });\n",
              "  });\n",
              "\n",
              "  const cancel = document.createElement('button');\n",
              "  inputElement.parentElement.appendChild(cancel);\n",
              "  cancel.textContent = 'Cancel upload';\n",
              "  const cancelPromise = new Promise((resolve) => {\n",
              "    cancel.onclick = () => {\n",
              "      resolve(null);\n",
              "    };\n",
              "  });\n",
              "\n",
              "  // Wait for the user to pick the files.\n",
              "  const files = yield {\n",
              "    promise: Promise.race([pickedPromise, cancelPromise]),\n",
              "    response: {\n",
              "      action: 'starting',\n",
              "    }\n",
              "  };\n",
              "\n",
              "  cancel.remove();\n",
              "\n",
              "  // Disable the input element since further picks are not allowed.\n",
              "  inputElement.disabled = true;\n",
              "\n",
              "  if (!files) {\n",
              "    return {\n",
              "      response: {\n",
              "        action: 'complete',\n",
              "      }\n",
              "    };\n",
              "  }\n",
              "\n",
              "  for (const file of files) {\n",
              "    const li = document.createElement('li');\n",
              "    li.append(span(file.name, {fontWeight: 'bold'}));\n",
              "    li.append(span(\n",
              "        `(${file.type || 'n/a'}) - ${file.size} bytes, ` +\n",
              "        `last modified: ${\n",
              "            file.lastModifiedDate ? file.lastModifiedDate.toLocaleDateString() :\n",
              "                                    'n/a'} - `));\n",
              "    const percent = span('0% done');\n",
              "    li.appendChild(percent);\n",
              "\n",
              "    outputElement.appendChild(li);\n",
              "\n",
              "    const fileDataPromise = new Promise((resolve) => {\n",
              "      const reader = new FileReader();\n",
              "      reader.onload = (e) => {\n",
              "        resolve(e.target.result);\n",
              "      };\n",
              "      reader.readAsArrayBuffer(file);\n",
              "    });\n",
              "    // Wait for the data to be ready.\n",
              "    let fileData = yield {\n",
              "      promise: fileDataPromise,\n",
              "      response: {\n",
              "        action: 'continue',\n",
              "      }\n",
              "    };\n",
              "\n",
              "    // Use a chunked sending to avoid message size limits. See b/62115660.\n",
              "    let position = 0;\n",
              "    do {\n",
              "      const length = Math.min(fileData.byteLength - position, MAX_PAYLOAD_SIZE);\n",
              "      const chunk = new Uint8Array(fileData, position, length);\n",
              "      position += length;\n",
              "\n",
              "      const base64 = btoa(String.fromCharCode.apply(null, chunk));\n",
              "      yield {\n",
              "        response: {\n",
              "          action: 'append',\n",
              "          file: file.name,\n",
              "          data: base64,\n",
              "        },\n",
              "      };\n",
              "\n",
              "      let percentDone = fileData.byteLength === 0 ?\n",
              "          100 :\n",
              "          Math.round((position / fileData.byteLength) * 100);\n",
              "      percent.textContent = `${percentDone}% done`;\n",
              "\n",
              "    } while (position < fileData.byteLength);\n",
              "  }\n",
              "\n",
              "  // All done.\n",
              "  yield {\n",
              "    response: {\n",
              "      action: 'complete',\n",
              "    }\n",
              "  };\n",
              "}\n",
              "\n",
              "scope.google = scope.google || {};\n",
              "scope.google.colab = scope.google.colab || {};\n",
              "scope.google.colab._files = {\n",
              "  _uploadFiles,\n",
              "  _uploadFilesContinue,\n",
              "};\n",
              "})(self);\n",
              "</script> "
            ]
          },
          "metadata": {}
        },
        {
          "output_type": "stream",
          "name": "stdout",
          "text": [
            "Saving kaggle (1).json to kaggle (1) (1).json\n"
          ]
        },
        {
          "output_type": "execute_result",
          "data": {
            "text/plain": [
              "{'kaggle (1) (1).json': b'{\"username\":\"iddrisuabdulai\",\"key\":\"d3b7ed1780e518f9a47284bbfd764061\"}'}"
            ]
          },
          "metadata": {},
          "execution_count": 35
        }
      ],
      "source": [
        "!pip install kaggle\n",
        "!pip install fuzzywuzzy\n",
        "import os\n",
        "import pandas as pd\n",
        "from scipy.sparse import csr_matrix\n",
        "from sklearn.neighbors import NearestNeighbors\n",
        "import numpy as np\n",
        "from fuzzywuzzy import fuzz, process\n",
        "from google.colab import drive\n",
        "drive.mount('/content/drive')\n",
        "from google.colab import files\n",
        "files.upload()"
      ]
    },
    {
      "cell_type": "code",
      "execution_count": 29,
      "metadata": {
        "colab": {
          "base_uri": "https://localhost:8080/"
        },
        "id": "zZTY--7UdtBe",
        "outputId": "02af3d7f-aad9-4e7c-8556-ed6f99a41055"
      },
      "outputs": [
        {
          "output_type": "stream",
          "name": "stdout",
          "text": [
            "{\"username\":\"iddrisuabdulai\",\"key\":\"646c97d4134cadfa0c642cbd5165d2f9\"}"
          ]
        }
      ],
      "source": [
        "!cat ~/.kaggle/kaggle.json"
      ]
    },
    {
      "cell_type": "code",
      "execution_count": 37,
      "metadata": {
        "colab": {
          "base_uri": "https://localhost:8080/"
        },
        "id": "ELSt3it7Qk9C",
        "outputId": "a66412af-138b-453e-ce51-6ef8c7ca5fca"
      },
      "outputs": [
        {
          "output_type": "stream",
          "name": "stdout",
          "text": [
            "cp: cannot stat 'kaggle.json': No such file or directory\n",
            "Dataset URL: https://www.kaggle.com/datasets/syedjaferk/book-crossing-dataset\n",
            "License(s): CC0-1.0\n",
            "Downloading book-crossing-dataset.zip to /content\n",
            " 20% 5.00M/24.6M [00:00<00:00, 40.5MB/s]\n",
            "100% 24.6M/24.6M [00:00<00:00, 117MB/s] \n",
            "Archive:  book-crossing-dataset.zip\n",
            "  inflating: BX-Book-Ratings.csv     \n",
            "  inflating: BX-Books.csv            \n",
            "  inflating: BX-Users.csv            \n"
          ]
        }
      ],
      "source": [
        "\n",
        "# Move the kaggle.json file to the correct location\n",
        "!mkdir -p ~/.kaggle\n",
        "!cp kaggle.json ~/.kaggle/\n",
        "!chmod 600 ~/.kaggle/kaggle.json\n",
        "\n",
        "# Download the dataset\n",
        "!kaggle datasets download -d syedjaferk/book-crossing-dataset\n",
        "!unzip book-crossing-dataset.zip\n"
      ]
    },
    {
      "cell_type": "code",
      "execution_count": 64,
      "metadata": {
        "colab": {
          "base_uri": "https://localhost:8080/"
        },
        "id": "-3g1kRF0ckiZ",
        "outputId": "7e1698ae-f433-4bd4-e75b-2110ca26d9e6"
      },
      "outputs": [
        {
          "output_type": "stream",
          "name": "stderr",
          "text": [
            "<ipython-input-64-c397ff6514f7>:2: DtypeWarning: Columns (3) have mixed types. Specify dtype option on import or set low_memory=False.\n",
            "  df_books = pd.read_csv('BX-Books.csv', sep=';', encoding='latin-1', on_bad_lines='skip')\n"
          ]
        },
        {
          "output_type": "stream",
          "name": "stdout",
          "text": [
            "   user_id        isbn  rating  \\\n",
            "0   276725  034545104X       0   \n",
            "1   276726  0155061224       5   \n",
            "2   276727  0446520802       0   \n",
            "3   276729  052165615X       3   \n",
            "4   276729  0521795028       6   \n",
            "\n",
            "                                          book_title  \n",
            "0                               Flesh Tones: A Novel  \n",
            "1                                   Rites of Passage  \n",
            "2                                       The Notebook  \n",
            "3                                     Help!: Level 1  \n",
            "4  The Amsterdam Connection : Level 4 (Cambridge ...  \n"
          ]
        }
      ],
      "source": [
        "# Load the dataset, skipping bad lines\n",
        "df_books = pd.read_csv('BX-Books.csv', sep=';', encoding='latin-1', on_bad_lines='skip')\n",
        "df_ratings = pd.read_csv('BX-Book-Ratings.csv', sep=';', encoding='latin-1')\n",
        "\n",
        "# Rename columns for clarity\n",
        "df_books.columns = ['isbn', 'book_title', 'book_author', 'year_of_publication', 'publisher', 'image_url_s', 'image_url_m', 'image_url_l']\n",
        "df_ratings.columns = ['user_id', 'isbn', 'rating']\n",
        "\n",
        "# Merge the datasets on 'isbn'\n",
        "df = pd.merge(df_ratings, df_books[['isbn', 'book_title']], on='isbn', how='inner')\n",
        "\n",
        "# Display the first few rows of the merged dataset\n",
        "print(df.head())"
      ]
    },
    {
      "cell_type": "code",
      "execution_count": 54,
      "metadata": {
        "id": "ejAnAlzbbRdq"
      },
      "outputs": [],
      "source": [
        "# Remove users with less than 200 ratings\n",
        "user_counts = df['user_id'].value_counts()\n",
        "df = df[df['user_id'].isin(user_counts[user_counts >= 200].index)]\n",
        "\n",
        "# Remove books with less than 100 ratings\n",
        "book_counts = df['isbn'].value_counts()\n",
        "df = df[df['isbn'].isin(book_counts[book_counts >= 100].index)]\n",
        "\n",
        "# Create user-item matrix\n",
        "user_item_matrix = df.pivot(index='user_id', columns='isbn', values='rating').fillna(0)\n",
        "\n",
        "# Normalize the data\n",
        "user_item_matrix_norm = user_item_matrix.subtract(user_item_matrix.mean(axis=1), axis=0)"
      ]
    },
    {
      "cell_type": "markdown",
      "source": [
        "'To ensure statistical significance, remove from the dataset users with less than 200 ratings\n",
        "and books with less than 100 ratings.'\n",
        "\n",
        "These ristrictions have resulted in an empty DataFrame, and so a suggestion to reduce the these thresholds to 50 for users and 20 for books to include more data in the analysis.\n"
      ],
      "metadata": {
        "id": "FQ_W-vAW9jbr"
      }
    },
    {
      "cell_type": "code",
      "source": [
        "# Remove users with less than 200 ratings\n",
        "user_counts = df['user_id'].value_counts()\n",
        "df = df[df['user_id'].isin(user_counts[user_counts >= 50].index)] # Reduced minimum user ratings to 50\n",
        "\n",
        "# Remove books with less than 100 ratings\n",
        "book_counts = df['isbn'].value_counts()\n",
        "df = df[df['isbn'].isin(book_counts[book_counts >= 20].index)] # Reduced minimum book ratings to 20\n",
        "\n",
        "# Create user-item matrix\n",
        "user_item_matrix = df.pivot(index='user_id', columns='isbn', values='rating').fillna(0)\n",
        "\n",
        "# Normalize the data\n",
        "user_item_matrix_norm = user_item_matrix.subtract(user_item_matrix.mean(axis=1), axis=0)"
      ],
      "metadata": {
        "id": "aA0PfpN84Duh"
      },
      "execution_count": 65,
      "outputs": []
    },
    {
      "cell_type": "code",
      "execution_count": 62,
      "metadata": {
        "colab": {
          "base_uri": "https://localhost:8080/"
        },
        "id": "zFP5dqi9ysPt",
        "outputId": "da71f1ff-0716-4f18-80f1-6294299e4654"
      },
      "outputs": [
        {
          "output_type": "stream",
          "name": "stdout",
          "text": [
            "The book 'The Queen of the Damned \\(Vampire Chronicles \\(Paperback\\)\\)' is present in the dataset.\n"
          ]
        }
      ],
      "source": [
        "\n",
        "# Check if the book title exists in the 'book_title' column\n",
        "book_title = \"The Queen of the Damned \\(Vampire Chronicles \\(Paperback\\)\\)\"\n",
        "if df_books['book_title'].str.contains(book_title).any():\n",
        "    print(f\"The book '{book_title}' is present in the dataset.\")\n",
        "else:\n",
        "    print(f\"The book '{book_title}' is not found in the dataset.\")"
      ]
    },
    {
      "cell_type": "code",
      "source": [
        "# Implement KNN\n",
        "model_knn = NearestNeighbors(metric='cosine', algorithm='brute')\n",
        "model_knn.fit(user_item_matrix_norm.values.T)\n",
        "\n",
        "# Create the get_recommends function\n",
        "def get_recommends(book_title):\n",
        "    # Find the closest match in the dataset based on book title\n",
        "    best_match = process.extractOne(book_title, df_books['book_title'], scorer=fuzz.token_set_ratio)\n",
        "\n",
        "    # Check if the match is above a certain threshold (e.g., 85%)\n",
        "    if best_match[1] >= 85:\n",
        "        matched_book_title = best_match[0]\n",
        "        print(f\"Found closest match: '{matched_book_title}'\")\n",
        "\n",
        "        # Get the ISBN of the matched book\n",
        "        matched_isbn = df_books.loc[df_books['book_title'] == matched_book_title, 'isbn'].iloc[0]\n",
        "\n",
        "        # Check if the ISBN exists in the user-item matrix columns\n",
        "        if matched_isbn not in user_item_matrix.columns:\n",
        "            print(f\"Book with ISBN '{matched_isbn}' not found in the dataset for recommendations. Returning popular books instead.\")\n",
        "            # Return top 5 most popular books as fallback:\n",
        "            popular_books = df['book_title'].value_counts().head(5).index.tolist()\n",
        "            return [(book, None) for book in popular_books]\n",
        "        else:\n",
        "            # Get recommendations based on ISBN\n",
        "            book_index = user_item_matrix.columns.get_loc(matched_isbn)\n",
        "            distances, indices = model_knn.kneighbors(user_item_matrix_norm.iloc[:, book_index].values.reshape(1, -1), n_neighbors=6)\n",
        "\n",
        "            similar_books = []\n",
        "            for i in range(1, len(distances.flatten())):\n",
        "                # Get the ISBN of the similar book\n",
        "                similar_book_isbn = user_item_matrix.columns[indices.flatten()[i]]\n",
        "\n",
        "                # Get the title of the similar book using the ISBN\n",
        "                similar_book_title = df_books.loc[df_books['isbn'] == similar_book_isbn, 'book_title'].iloc[0]\n",
        "\n",
        "                similar_books.append((similar_book_title, distances.flatten()[i]))\n",
        "\n",
        "            return similar_books\n",
        "    else:\n",
        "        print(f\"The book '{book_title}' is not found in the dataset.\")\n",
        "        return []"
      ],
      "metadata": {
        "id": "B04x1r4x0I5W"
      },
      "execution_count": 70,
      "outputs": []
    },
    {
      "cell_type": "code",
      "execution_count": 71,
      "metadata": {
        "colab": {
          "base_uri": "https://localhost:8080/"
        },
        "id": "NZjNAvuosj_8",
        "outputId": "8dda73c8-0352-445d-d23e-bd1ddbe7fd18"
      },
      "outputs": [
        {
          "output_type": "stream",
          "name": "stdout",
          "text": [
            "Found closest match: 'The Queen of the Damned (Vampire Chronicles (Paperback))'\n",
            "[('The Tale of the Body Thief (Vampire Chronicles (Paperback))', 0.48360643695239025), ('The Vampire Lestat (Vampire Chronicles, Book II)', 0.530769523881157), ('Memnoch the Devil (Vampire Chronicles, No 5)', 0.6613540486441493), ('Interview with the Vampire', 0.6815903489220037), ('Lasher: Lives of the Mayfair Witches (Lives of the Mayfair Witches)', 0.7966637366741259)]\n"
          ]
        }
      ],
      "source": [
        "# Example usage\n",
        "book_title = \"The Queen of the Damned \\(Vampire Chronicles \\(Paperback\\)\\)\"\n",
        "recommendations = get_recommends(book_title)\n",
        "print(recommendations)\n"
      ]
    }
  ],
  "metadata": {
    "colab": {
      "provenance": [],
      "authorship_tag": "ABX9TyNF+VwE5CPOqGc+1fE0KBHp",
      "include_colab_link": true
    },
    "kernelspec": {
      "display_name": "Python 3",
      "name": "python3"
    },
    "language_info": {
      "name": "python"
    }
  },
  "nbformat": 4,
  "nbformat_minor": 0
}